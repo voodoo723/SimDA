{
 "cells": [
  {
   "cell_type": "code",
   "execution_count": 1,
   "id": "ed70aa21-8837-4a1f-87c7-9fc91e7d666d",
   "metadata": {},
   "outputs": [],
   "source": [
    "#подключаем библиотеки\n",
    "import pandas as pd\n",
    "import pandahouse as ph\n",
    "import numpy as np\n",
    "from scipy import stats\n",
    "import seaborn as sns\n",
    "%matplotlib inline"
   ]
  },
  {
   "cell_type": "code",
   "execution_count": 2,
   "id": "3d9c3e8e-c7dd-41c7-aa6e-643808e7cf87",
   "metadata": {},
   "outputs": [],
   "source": [
    "#настройки графиков\n",
    "sns.set(\n",
    "    font_scale=2,\n",
    "    style=\"whitegrid\",\n",
    "    rc={'figure.figsize':(15,6)}\n",
    "        )"
   ]
  },
  {
   "cell_type": "code",
   "execution_count": 3,
   "id": "c9856a15-f2ba-436d-9c95-cace8d6ddeca",
   "metadata": {},
   "outputs": [],
   "source": [
    "#подключаемся к кликхаусу\n",
    "connection = {\n",
    "    'host': 'https://clickhouse.lab.karpov.courses',\n",
    "    'password': 'dpo_python_2020',\n",
    "    'user': 'student',\n",
    "    'database': 'simulator_20240720'\n",
    "}\n",
    "\n",
    "q = \"\"\"\n",
    "SELECT user_id, exp_group, countIf(user_id, action = 'like') as likes, countIf(user_id, action = 'view') as views\n",
    "FROM simulator_20240720.feed_actions \n",
    "WHERE toDate(time) >= toDate('2024-06-28') and toDate(time) <= toDate('2024-07-04') and exp_group in (0,1,2,3)\n",
    "group by user_id, exp_group\n",
    "\"\"\"\n",
    "\n",
    "# Вытащили пользователей\n",
    "users_df = ph.read_clickhouse(q, connection=connection)"
   ]
  },
  {
   "cell_type": "code",
   "execution_count": 4,
   "id": "ae49e5dd-b30f-4fbd-b3de-dd7a21f3fedf",
   "metadata": {},
   "outputs": [],
   "source": [
    "#считаем обычный CTR\n",
    "users_df['ctr'] = users_df.likes / users_df.views"
   ]
  },
  {
   "cell_type": "code",
   "execution_count": 6,
   "id": "94697fc0-9bec-465a-8063-66f96663c4d0",
   "metadata": {},
   "outputs": [],
   "source": [
    "#разобъем группы на тест и контроль\n",
    "test1 = users_df[users_df.exp_group == 3]\n",
    "control1 = users_df[users_df.exp_group == 0]\n",
    "\n",
    "test2 = users_df[users_df.exp_group == 2]\n",
    "control2 = users_df[users_df.exp_group == 1]"
   ]
  },
  {
   "cell_type": "code",
   "execution_count": 10,
   "id": "bd06dcb3-37be-41fb-94de-3cd1e11c2b62",
   "metadata": {},
   "outputs": [
    {
     "data": {
      "text/html": [
       "<div>\n",
       "<style scoped>\n",
       "    .dataframe tbody tr th:only-of-type {\n",
       "        vertical-align: middle;\n",
       "    }\n",
       "\n",
       "    .dataframe tbody tr th {\n",
       "        vertical-align: top;\n",
       "    }\n",
       "\n",
       "    .dataframe thead th {\n",
       "        text-align: right;\n",
       "    }\n",
       "</style>\n",
       "<table border=\"1\" class=\"dataframe\">\n",
       "  <thead>\n",
       "    <tr style=\"text-align: right;\">\n",
       "      <th></th>\n",
       "      <th>user_id</th>\n",
       "      <th>exp_group</th>\n",
       "      <th>likes</th>\n",
       "      <th>views</th>\n",
       "      <th>ctr</th>\n",
       "      <th>linearized_likes</th>\n",
       "    </tr>\n",
       "  </thead>\n",
       "  <tbody>\n",
       "    <tr>\n",
       "      <th>0</th>\n",
       "      <td>115383</td>\n",
       "      <td>3</td>\n",
       "      <td>12</td>\n",
       "      <td>44</td>\n",
       "      <td>0.272727</td>\n",
       "      <td>2.767128</td>\n",
       "    </tr>\n",
       "    <tr>\n",
       "      <th>2</th>\n",
       "      <td>123580</td>\n",
       "      <td>3</td>\n",
       "      <td>2</td>\n",
       "      <td>11</td>\n",
       "      <td>0.181818</td>\n",
       "      <td>-0.308218</td>\n",
       "    </tr>\n",
       "    <tr>\n",
       "      <th>8</th>\n",
       "      <td>118359</td>\n",
       "      <td>3</td>\n",
       "      <td>7</td>\n",
       "      <td>38</td>\n",
       "      <td>0.184211</td>\n",
       "      <td>-0.973844</td>\n",
       "    </tr>\n",
       "    <tr>\n",
       "      <th>12</th>\n",
       "      <td>16699</td>\n",
       "      <td>3</td>\n",
       "      <td>6</td>\n",
       "      <td>16</td>\n",
       "      <td>0.375000</td>\n",
       "      <td>2.642592</td>\n",
       "    </tr>\n",
       "    <tr>\n",
       "      <th>13</th>\n",
       "      <td>138445</td>\n",
       "      <td>3</td>\n",
       "      <td>18</td>\n",
       "      <td>93</td>\n",
       "      <td>0.193548</td>\n",
       "      <td>-1.514933</td>\n",
       "    </tr>\n",
       "  </tbody>\n",
       "</table>\n",
       "</div>"
      ],
      "text/plain": [
       "    user_id  exp_group  likes  views       ctr  linearized_likes\n",
       "0    115383          3     12     44  0.272727          2.767128\n",
       "2    123580          3      2     11  0.181818         -0.308218\n",
       "8    118359          3      7     38  0.184211         -0.973844\n",
       "12    16699          3      6     16  0.375000          2.642592\n",
       "13   138445          3     18     93  0.193548         -1.514933"
      ]
     },
     "execution_count": 10,
     "metadata": {},
     "output_type": "execute_result"
    }
   ],
   "source": [
    "test1.head()"
   ]
  },
  {
   "cell_type": "code",
   "execution_count": 8,
   "id": "1e069ed4-c7fc-478f-83c0-227e8e0d54ed",
   "metadata": {},
   "outputs": [],
   "source": [
    "#посчитаем глобальный CTR в контроле\n",
    "ctr_control1 = control1.likes.sum() / control1.views.sum()\n",
    "ctr_control2 = control2.likes.sum() / control2.views.sum()"
   ]
  },
  {
   "cell_type": "code",
   "execution_count": null,
   "id": "7e20ba94-05b3-4c8a-a44d-63d5690a9b39",
   "metadata": {},
   "outputs": [],
   "source": []
  },
  {
   "cell_type": "code",
   "execution_count": 24,
   "id": "569cc7e2-b8c8-49af-914d-9ebce36acf42",
   "metadata": {},
   "outputs": [
    {
     "data": {
      "text/plain": [
       "<Axes: xlabel='ctr', ylabel='Count'>"
      ]
     },
     "execution_count": 24,
     "metadata": {},
     "output_type": "execute_result"
    },
    {
     "data": {
      "image/png": "[encoded data removed]",
      "text/plain": [
       "<Figure size 1080x432 with 1 Axes>"
      ]
     },
     "metadata": {},
     "output_type": "display_data"
    }
   ],
   "source": [
    "sns.histplot(test1.ctr)\n",
    "sns.histplot(control1.ctr)"
   ]
  },
  {
   "cell_type": "code",
   "execution_count": 28,
   "id": "9733294b-c320-4cb8-852e-a59b4bc9115b",
   "metadata": {},
   "outputs": [
    {
     "data": {
      "text/plain": [
       "<Axes: xlabel='linearized_likes', ylabel='Count'>"
      ]
     },
     "execution_count": 28,
     "metadata": {},
     "output_type": "execute_result"
    },
    {
     "data": {
      "image/png": "[encoded data removed]",
      "text/plain": [
       "<Figure size 1080x432 with 1 Axes>"
      ]
     },
     "metadata": {},
     "output_type": "display_data"
    }
   ],
   "source": [
    "sns.histplot(test1.linearized_likes)\n",
    "sns.histplot(control1.linearized_likes)"
   ]
  },
  {
   "cell_type": "code",
   "execution_count": 9,
   "id": "3184ccf3-d62e-4a87-8b13-d6c1214250f0",
   "metadata": {},
   "outputs": [],
   "source": [
    "# расчет линеаризованных лайков\n",
    "test1 = test1.assign(linearized_likes = lambda x: x.likes - ctr_control1 * x.views)\n",
    "control1 = control1.assign(linearized_likes = lambda x: x.likes - ctr_control1 * x.views)\n",
    "\n",
    "test2 = test2.assign(linearized_likes = lambda x: x.likes - ctr_control2 * x.views)\n",
    "control2 = control2.assign(linearized_likes = lambda x: x.likes - ctr_control2 * x.views)"
   ]
  },
  {
   "cell_type": "code",
   "execution_count": 35,
   "id": "3ea99782-9377-49d8-9657-c1ecdd37046f",
   "metadata": {},
   "outputs": [
    {
     "data": {
      "text/plain": [
       "LeveneResult(statistic=0.13576527402423189, pvalue=0.7125316496454377)"
      ]
     },
     "execution_count": 35,
     "metadata": {},
     "output_type": "execute_result"
    }
   ],
   "source": [
    "#проверим требование на гомогенность дисперсий для уточнения параметра в t-тесте\n",
    "stats.levene(test1.linearized_likes, control1.linearized_likes, center='median')"
   ]
  },
  {
   "cell_type": "markdown",
   "id": "69eda0cc-79eb-40cc-919b-8e888f4292f0",
   "metadata": {},
   "source": [
    "Требование выполняется"
   ]
  },
  {
   "cell_type": "code",
   "execution_count": 36,
   "id": "6ecfb7e7-a599-4fc8-b20f-1779393c1ff4",
   "metadata": {},
   "outputs": [
    {
     "data": {
      "text/plain": [
       "Ttest_indResult(statistic=16.186959394183784, pvalue=1.4740034890835593e-58)"
      ]
     },
     "execution_count": 36,
     "metadata": {},
     "output_type": "execute_result"
    }
   ],
   "source": [
    "#сравним t-тестом линеаризованные лайки\n",
    "linear_t1 = stats.ttest_ind(test1.linearized_likes, control1.linearized_likes, equal_var=True)\n",
    "linear_t1"
   ]
  },
  {
   "cell_type": "code",
   "execution_count": 37,
   "id": "299b7e5d-356b-4d5a-867b-3cac47ede9ce",
   "metadata": {},
   "outputs": [
    {
     "data": {
      "text/plain": [
       "LeveneResult(statistic=5.031261726895506, pvalue=0.02490470490440779)"
      ]
     },
     "execution_count": 37,
     "metadata": {},
     "output_type": "execute_result"
    }
   ],
   "source": [
    "#проверим требование на гомогенность дисперсий\n",
    "stats.levene(test1.ctr, control1.ctr, center='median')"
   ]
  },
  {
   "cell_type": "code",
   "execution_count": 38,
   "id": "b8acef7f-9dae-499a-9c8c-e065fa1347b0",
   "metadata": {},
   "outputs": [
    {
     "data": {
      "text/plain": [
       "Ttest_indResult(statistic=13.935320516755777, pvalue=6.216047483061785e-44)"
      ]
     },
     "execution_count": 38,
     "metadata": {},
     "output_type": "execute_result"
    }
   ],
   "source": [
    "#сравним t-тестом обычные CTR\n",
    "ctr_t1 = stats.ttest_ind(test1.ctr, control1.ctr, equal_var=False)\n",
    "ctr_t1"
   ]
  },
  {
   "cell_type": "code",
   "execution_count": 39,
   "id": "e6f72838-f697-4870-9d85-8039f7205b4f",
   "metadata": {},
   "outputs": [
    {
     "data": {
      "text/plain": [
       "True"
      ]
     },
     "execution_count": 39,
     "metadata": {},
     "output_type": "execute_result"
    }
   ],
   "source": [
    "linear_t1[1] < ctr_t1[1]"
   ]
  },
  {
   "cell_type": "markdown",
   "id": "6df68cb1-6bb0-4bb7-aef3-a1b3ce493503",
   "metadata": {},
   "source": [
    "P-value уменьшилось при переходе от CTR к линеаризованным лайкам"
   ]
  },
  {
   "cell_type": "code",
   "execution_count": 54,
   "id": "6bb7a98f-1f5c-48f9-90fd-87121535d314",
   "metadata": {},
   "outputs": [
    {
     "data": {
      "text/plain": [
       "MannwhitneyuResult(statistic=56537890.0, pvalue=2.504376811309453e-65)"
      ]
     },
     "execution_count": 54,
     "metadata": {},
     "output_type": "execute_result"
    }
   ],
   "source": [
    "#Манн-Уитни также видит различие\n",
    "stats.mannwhitneyu(test1.linearized_likes, control1.linearized_likes, alternative = 'two-sided')"
   ]
  },
  {
   "cell_type": "code",
   "execution_count": 55,
   "id": "274d98e2-d61e-4359-9e25-5c6af057be1d",
   "metadata": {},
   "outputs": [
    {
     "name": "stdout",
     "output_type": "stream",
     "text": [
      "В 56.4% случаев linearized_likes в тесте > чем в контроле\n"
     ]
    }
   ],
   "source": [
    "#посмотрим в какую сторону\n",
    "A_gt_B = 0\n",
    "n = 10000\n",
    "for _ in range(n):\n",
    "    A_gt_B+= test1.linearized_likes.sample().values[0] > control1.linearized_likes.sample().values[0]\n",
    "    \n",
    "print('В', f\"{A_gt_B/n:.1%}\", 'случаев linearized_likes в тесте > чем в контроле')"
   ]
  },
  {
   "cell_type": "markdown",
   "id": "e4f9f05b-f1ed-4a5f-b2d7-e682b5fc6a08",
   "metadata": {},
   "source": [
    "Перейдем к сравнению 1 и 2 групп."
   ]
  },
  {
   "cell_type": "code",
   "execution_count": 42,
   "id": "637b45e0-7f72-4be8-847d-048b1db134be",
   "metadata": {},
   "outputs": [
    {
     "data": {
      "text/plain": [
       "<Axes: xlabel='linearized_likes', ylabel='Count'>"
      ]
     },
     "execution_count": 42,
     "metadata": {},
     "output_type": "execute_result"
    },
    {
     "data": {
      "image/png": "[encoded data removed]",
      "text/plain": [
       "<Figure size 1080x432 with 1 Axes>"
      ]
     },
     "metadata": {},
     "output_type": "display_data"
    }
   ],
   "source": [
    "#визуализируем наши метрики\n",
    "sns.histplot(test2.linearized_likes)\n",
    "sns.histplot(control2.linearized_likes)"
   ]
  },
  {
   "cell_type": "code",
   "execution_count": null,
   "id": "98bf1f31-efc3-44b7-8aca-3fb8fabfe1e4",
   "metadata": {},
   "outputs": [],
   "source": []
  },
  {
   "cell_type": "code",
   "execution_count": 45,
   "id": "74cacce5-6e68-45f4-8e4c-3a538694f384",
   "metadata": {},
   "outputs": [
    {
     "data": {
      "text/plain": [
       "LeveneResult(statistic=3535.1569451708956, pvalue=0.0)"
      ]
     },
     "execution_count": 45,
     "metadata": {},
     "output_type": "execute_result"
    }
   ],
   "source": [
    "#проверим требование на гомогенность дисперсий\n",
    "stats.levene(test2.linearized_likes, control2.linearized_likes, center='median')"
   ]
  },
  {
   "cell_type": "code",
   "execution_count": 46,
   "id": "a4779dbd-7c3d-4106-bb2e-609e18d31298",
   "metadata": {},
   "outputs": [
    {
     "data": {
      "text/plain": [
       "Ttest_indResult(statistic=-5.936377101934478, pvalue=2.9805064038668383e-09)"
      ]
     },
     "execution_count": 46,
     "metadata": {},
     "output_type": "execute_result"
    }
   ],
   "source": [
    "#t-тест видит различие\n",
    "linear_t2 = stats.ttest_ind(test2.linearized_likes, control2.linearized_likes, equal_var=False)\n",
    "linear_t2"
   ]
  },
  {
   "cell_type": "code",
   "execution_count": 60,
   "id": "f8d37951-313a-484c-a7cc-d4b6644ab447",
   "metadata": {},
   "outputs": [
    {
     "data": {
      "text/plain": [
       "False"
      ]
     },
     "execution_count": 60,
     "metadata": {},
     "output_type": "execute_result"
    }
   ],
   "source": [
    "#при этом среднее значение linearized_likes в тесте уменьшилось\n",
    "test2.linearized_likes.mean() > control2.linearized_likes.mean()"
   ]
  },
  {
   "cell_type": "code",
   "execution_count": 47,
   "id": "568a2565-abca-4298-b717-fc4c6a86bde3",
   "metadata": {},
   "outputs": [
    {
     "data": {
      "text/plain": [
       "Ttest_indResult(statistic=-0.4051491913112924, pvalue=0.6853733311407387)"
      ]
     },
     "execution_count": 47,
     "metadata": {},
     "output_type": "execute_result"
    }
   ],
   "source": [
    "#при сравнении обычных ctr высокое значение p value не позволяет нам отклонить нулевую гипотезу\n",
    "ctr_t2 = stats.ttest_ind(test2.ctr, control2.ctr, equal_var=False)\n",
    "ctr_t2"
   ]
  },
  {
   "cell_type": "code",
   "execution_count": 48,
   "id": "cbff2322-d810-40a2-ac01-d123ce087479",
   "metadata": {},
   "outputs": [
    {
     "data": {
      "text/plain": [
       "True"
      ]
     },
     "execution_count": 48,
     "metadata": {},
     "output_type": "execute_result"
    }
   ],
   "source": [
    "linear_t2[1] < ctr_t2[1]"
   ]
  },
  {
   "cell_type": "markdown",
   "id": "a5a83f5b-a75e-4618-94d3-668266c0d78d",
   "metadata": {},
   "source": [
    "P-value также уменьшилось при переходе от CTR к линеаризованным лайкам"
   ]
  },
  {
   "cell_type": "code",
   "execution_count": 51,
   "id": "c35cbe89-36bb-43c1-8287-3c15af9d7c36",
   "metadata": {},
   "outputs": [
    {
     "data": {
      "text/plain": [
       "MannwhitneyuResult(statistic=45451097.5, pvalue=2.4030320776345276e-23)"
      ]
     },
     "execution_count": 51,
     "metadata": {},
     "output_type": "execute_result"
    }
   ],
   "source": [
    "#Манн-Уитни также видит различие\n",
    "stats.mannwhitneyu(test2.linearized_likes, control2.linearized_likes, alternative = 'two-sided')"
   ]
  },
  {
   "cell_type": "code",
   "execution_count": 53,
   "id": "0f16708a-1d59-4072-aef1-0e8aad16c95f",
   "metadata": {},
   "outputs": [
    {
     "name": "stdout",
     "output_type": "stream",
     "text": [
      "В 45.6% случаев linearized_likes в тесте > чем в контроле\n"
     ]
    }
   ],
   "source": [
    "#посмотрим в какую сторону\n",
    "A_gt_B = 0\n",
    "n = 10000\n",
    "for _ in range(n):\n",
    "    A_gt_B+= test2.linearized_likes.sample().values[0] > control2.linearized_likes.sample().values[0]\n",
    "    \n",
    "print('В', f\"{A_gt_B/n:.1%}\", 'случаев linearized_likes в тесте > чем в контроле')"
   ]
  },
  {
   "cell_type": "markdown",
   "id": "cccde1b7-4b0a-4ea3-806f-94a556443d2c",
   "metadata": {},
   "source": [
    "Итого:\n",
    "    \n",
    "1. При сравнении 0 и 3 группы различие есть как по метрике обычного CTR таки по линеаризованным лайкам. В тестовой группе (3) обе метрики увеличились.\n",
    "   При этом в сравнении t-тестом p-value в случае лиаризованных лайком стало меньше, чем при обычном CTR.\n",
    "\n",
    "2. В сравнении 1 и 2 группы переход к метрике линеаризованных лайков уменьшил наш p-value в t-тесте таким образом, что тест прокрасился. В тестовой группе (2) значение метрики уменьшилось.\n",
    "   Но при переходе к метрике линеаризованных лайков у нас по прежнему не выполняется требование на гомогенность дисперсий, поэтому t-тест в этом кейсе проводить нужно с осторожностью."
   ]
  }
 ],
 "metadata": {
  "kernelspec": {
   "display_name": "Python 3 (ipykernel)",
   "language": "python",
   "name": "python3"
  },
  "language_info": {
   "codemirror_mode": {
    "name": "ipython",
    "version": 3
   },
   "file_extension": ".py",
   "mimetype": "text/x-python",
   "name": "python",
   "nbconvert_exporter": "python",
   "pygments_lexer": "ipython3",
   "version": "3.9.13"
  }
 },
 "nbformat": 4,
 "nbformat_minor": 5
}

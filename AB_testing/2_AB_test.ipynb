{
 "cells": [
  {
   "cell_type": "code",
   "execution_count": 1,
   "id": "2dd3ed65-9f0f-47f6-b530-dc415d0222f4",
   "metadata": {},
   "outputs": [],
   "source": [
    "#подключаем библиотеки\n",
    "import pandas as pd\n",
    "import pandahouse as ph\n",
    "import numpy as np\n",
    "from scipy import stats\n",
    "import seaborn as sns\n",
    "%matplotlib inline"
   ]
  },
  {
   "cell_type": "code",
   "execution_count": 2,
   "id": "b12bf0c5-7da2-4ac6-92b6-10de15d5c171",
   "metadata": {},
   "outputs": [],
   "source": [
    "#настройки графиков\n",
    "sns.set(\n",
    "    font_scale=2,\n",
    "    style=\"whitegrid\",\n",
    "    rc={'figure.figsize':(15,6)}\n",
    "        )"
   ]
  },
  {
   "cell_type": "code",
   "execution_count": 3,
   "id": "73774a5d-bd35-4e9c-b401-1062743fb702",
   "metadata": {},
   "outputs": [],
   "source": [
    "#подключаемся к кликхаусу\n",
    "connection = {\n",
    "    'host': 'https://clickhouse.lab.karpov.courses',\n",
    "    'password': 'dpo_python_2020',\n",
    "    'user': 'student',\n",
    "    'database': 'simulator_20240720'\n",
    "}\n",
    "\n",
    "q = \"\"\"\n",
    "SELECT user_id, exp_group, countIf(user_id, action = 'like') as likes, countIf(user_id, action = 'view') as views\n",
    "FROM simulator_20240720.feed_actions \n",
    "WHERE toDate(time) >= toDate('2024-06-28') and toDate(time) <= toDate('2024-07-04') and exp_group in (1,2)\n",
    "group by user_id, exp_group\n",
    "\"\"\"\n",
    "\n",
    "# Вытащили пользователей\n",
    "users_df = ph.read_clickhouse(q, connection=connection)"
   ]
  },
  {
   "cell_type": "code",
   "execution_count": 4,
   "id": "c41e64be-a1fc-47b3-b351-ae01f499db44",
   "metadata": {},
   "outputs": [],
   "source": [
    "#считаем CTR\n",
    "users_df['ctr'] = users_df.likes / users_df.views"
   ]
  },
  {
   "cell_type": "code",
   "execution_count": 5,
   "id": "01ad025d-d648-4245-a10f-e9a5bdf48356",
   "metadata": {},
   "outputs": [
    {
     "data": {
      "text/html": [
       "<div>\n",
       "<style scoped>\n",
       "    .dataframe tbody tr th:only-of-type {\n",
       "        vertical-align: middle;\n",
       "    }\n",
       "\n",
       "    .dataframe tbody tr th {\n",
       "        vertical-align: top;\n",
       "    }\n",
       "\n",
       "    .dataframe thead th {\n",
       "        text-align: right;\n",
       "    }\n",
       "</style>\n",
       "<table border=\"1\" class=\"dataframe\">\n",
       "  <thead>\n",
       "    <tr style=\"text-align: right;\">\n",
       "      <th></th>\n",
       "      <th>user_id</th>\n",
       "      <th>exp_group</th>\n",
       "      <th>likes</th>\n",
       "      <th>views</th>\n",
       "      <th>ctr</th>\n",
       "    </tr>\n",
       "  </thead>\n",
       "  <tbody>\n",
       "    <tr>\n",
       "      <th>0</th>\n",
       "      <td>109963</td>\n",
       "      <td>1</td>\n",
       "      <td>3</td>\n",
       "      <td>15</td>\n",
       "      <td>0.200000</td>\n",
       "    </tr>\n",
       "    <tr>\n",
       "      <th>1</th>\n",
       "      <td>26117</td>\n",
       "      <td>1</td>\n",
       "      <td>32</td>\n",
       "      <td>141</td>\n",
       "      <td>0.226950</td>\n",
       "    </tr>\n",
       "    <tr>\n",
       "      <th>2</th>\n",
       "      <td>138232</td>\n",
       "      <td>1</td>\n",
       "      <td>18</td>\n",
       "      <td>73</td>\n",
       "      <td>0.246575</td>\n",
       "    </tr>\n",
       "    <tr>\n",
       "      <th>3</th>\n",
       "      <td>26295</td>\n",
       "      <td>1</td>\n",
       "      <td>39</td>\n",
       "      <td>141</td>\n",
       "      <td>0.276596</td>\n",
       "    </tr>\n",
       "    <tr>\n",
       "      <th>4</th>\n",
       "      <td>18392</td>\n",
       "      <td>1</td>\n",
       "      <td>7</td>\n",
       "      <td>32</td>\n",
       "      <td>0.218750</td>\n",
       "    </tr>\n",
       "  </tbody>\n",
       "</table>\n",
       "</div>"
      ],
      "text/plain": [
       "   user_id  exp_group  likes  views       ctr\n",
       "0   109963          1      3     15  0.200000\n",
       "1    26117          1     32    141  0.226950\n",
       "2   138232          1     18     73  0.246575\n",
       "3    26295          1     39    141  0.276596\n",
       "4    18392          1      7     32  0.218750"
      ]
     },
     "execution_count": 5,
     "metadata": {},
     "output_type": "execute_result"
    }
   ],
   "source": [
    "users_df.head()"
   ]
  },
  {
   "cell_type": "code",
   "execution_count": 5,
   "id": "b4ff8669-abce-41c2-b35c-3ce278d2ee69",
   "metadata": {},
   "outputs": [],
   "source": [
    "test = users_df[users_df.exp_group == 2]\n",
    "control = users_df[users_df.exp_group == 1]"
   ]
  },
  {
   "cell_type": "code",
   "execution_count": null,
   "id": "fe555431-1469-48c2-813f-fb847b0e9290",
   "metadata": {},
   "outputs": [],
   "source": []
  },
  {
   "cell_type": "code",
   "execution_count": 146,
   "id": "644f341a-400f-41fa-a676-1d70e99e1541",
   "metadata": {},
   "outputs": [
    {
     "data": {
      "text/plain": [
       "Ttest_indResult(statistic=-0.405149191311259, pvalue=0.6853733311407633)"
      ]
     },
     "execution_count": 146,
     "metadata": {},
     "output_type": "execute_result"
    }
   ],
   "source": [
    "#t тест не видит различия\n",
    "stats.ttest_ind(test.ctr, control.ctr, equal_var=False)"
   ]
  },
  {
   "cell_type": "code",
   "execution_count": 147,
   "id": "452a9744-21ff-47f7-9202-6c802c4bff28",
   "metadata": {},
   "outputs": [
    {
     "data": {
      "text/plain": [
       "LeveneResult(statistic=2757.7940649593224, pvalue=0.0)"
      ]
     },
     "execution_count": 147,
     "metadata": {},
     "output_type": "execute_result"
    }
   ],
   "source": [
    "#проверим требование на гомогенность дисперсий\n",
    "stats.levene(test.ctr, control.ctr, center='median')"
   ]
  },
  {
   "cell_type": "markdown",
   "id": "bab52468-74a6-4c14-b8e0-88376045bd62",
   "metadata": {},
   "source": [
    "Требование гомогенности не выполнено, а занчит t-тест применять здесь не стоит"
   ]
  },
  {
   "cell_type": "code",
   "execution_count": 149,
   "id": "430bc143-3a77-4d89-969d-902fe1b07ea8",
   "metadata": {},
   "outputs": [
    {
     "data": {
      "text/plain": [
       "MannwhitneyuResult(statistic=43777627.0, pvalue=4.632205841806026e-45)"
      ]
     },
     "execution_count": 149,
     "metadata": {},
     "output_type": "execute_result"
    }
   ],
   "source": [
    "#Тест Манна-Уитни прокрашивается\n",
    "stats.mannwhitneyu(test.ctr, control.ctr, alternative = 'two-sided')"
   ]
  },
  {
   "cell_type": "markdown",
   "id": "dde13740-b654-422d-950a-5c1df8c587bf",
   "metadata": {},
   "source": [
    "Проверим в какую именно сторону:"
   ]
  },
  {
   "cell_type": "code",
   "execution_count": 150,
   "id": "810ee987-10ab-4e66-8688-66ed52d910dd",
   "metadata": {},
   "outputs": [
    {
     "name": "stdout",
     "output_type": "stream",
     "text": [
      "В 43.9% случаев ctr в тесте > чем в контроле\n"
     ]
    }
   ],
   "source": [
    "A_gt_B = 0\n",
    "n = 10000\n",
    "for _ in range(n):\n",
    "    A_gt_B+= test.ctr.sample().values[0] > control.ctr.sample().values[0]\n",
    "    \n",
    "print('В', f\"{A_gt_B/n:.1%}\", 'случаев ctr в тесте > чем в контроле')"
   ]
  },
  {
   "cell_type": "code",
   "execution_count": 70,
   "id": "7fe464d1-7650-4c82-8dba-e136f8ea79ad",
   "metadata": {},
   "outputs": [],
   "source": []
  },
  {
   "cell_type": "code",
   "execution_count": 9,
   "id": "57700ed5-7bd6-48d4-ac18-9e7ac4f4bb95",
   "metadata": {},
   "outputs": [
    {
     "data": {
      "text/plain": [
       "<Axes: xlabel='ctr', ylabel='Count'>"
      ]
     },
     "execution_count": 9,
     "metadata": {},
     "output_type": "execute_result"
    },
    {
     "data": {
      "image/png": "[encoded data removed]",
      "text/plain": [
       "<Figure size 1080x432 with 1 Axes>"
      ]
     },
     "metadata": {},
     "output_type": "display_data"
    }
   ],
   "source": [
    "# визуализируем распределение CTR в 1 и 2 группах\n",
    "sns.histplot(data = users_df, x = 'ctr', hue = 'exp_group', palette = ['r', 'b'])"
   ]
  },
  {
   "cell_type": "markdown",
   "id": "7ab773e0-edf5-43a9-84c3-a305b4e8aa6f",
   "metadata": {},
   "source": [
    "Распределение в тестовой группе бимодально, а значит логично что условие на равенство дисперсий не выполяется."
   ]
  },
  {
   "cell_type": "code",
   "execution_count": 178,
   "id": "1d3dd7a9-3a57-4ca1-b3ca-06df08f9b681",
   "metadata": {},
   "outputs": [
    {
     "data": {
      "text/plain": [
       "<Axes: ylabel='Count'>"
      ]
     },
     "execution_count": 178,
     "metadata": {},
     "output_type": "execute_result"
    },
    {
     "data": {
      "image/png": "[encoded data removed]",
      "text/plain": [
       "<Figure size 1080x432 with 1 Axes>"
      ]
     },
     "metadata": {},
     "output_type": "display_data"
    }
   ],
   "source": [
    "# попробуем проверить через Пуассоновский бутстреп\n",
    "def bootstrap(likes1, views1, likes2, views2, n_bootstrap=2000):\n",
    "\n",
    "    poisson_bootstraps1 = stats.poisson(1).rvs(\n",
    "        (n_bootstrap, len(likes1))).astype(np.int64)\n",
    "\n",
    "    poisson_bootstraps2 = stats.poisson(1).rvs(\n",
    "            (n_bootstrap, len(likes2))).astype(np.int64)\n",
    "    \n",
    "    globalCTR1 = (poisson_bootstraps1*likes1).sum(axis=1)/(poisson_bootstraps1*views1).sum(axis=1)\n",
    "    \n",
    "    globalCTR2 = (poisson_bootstraps2*likes2).sum(axis=1)/(poisson_bootstraps2*views2).sum(axis=1)\n",
    "\n",
    "    return globalCTR1, globalCTR2\n",
    "\n",
    "likes_test = users_df[users_df.exp_group == 2].likes.to_numpy()\n",
    "views1_test = users_df[users_df.exp_group == 2].views.to_numpy()\n",
    "likes2_control = users_df[users_df.exp_group == 1].likes.to_numpy()\n",
    "views2_control = users_df[users_df.exp_group == 1].views.to_numpy()\n",
    "\n",
    "ctr_test, ctr_control = bootstrap(likes_test, views1_test, likes2_control, views2_control)\n",
    "\n",
    "sns.histplot(ctr_test, color = 'g')\n",
    "sns.histplot(ctr_control, color = 'r')"
   ]
  },
  {
   "cell_type": "markdown",
   "id": "2363a796-d3fd-45b2-9fa2-629b7f498f9b",
   "metadata": {},
   "source": [
    "Гистограммы даже непересекаются, а значит есть явное различие, причем в отрицательную сторону."
   ]
  },
  {
   "cell_type": "code",
   "execution_count": 153,
   "id": "d4be0d0f-f690-4311-943a-8b126a37cda7",
   "metadata": {},
   "outputs": [],
   "source": [
    "# функция расчета сглаженного CTR\n",
    "def get_smothed_ctr(user_likes, user_views, global_ctr, alpha):\n",
    "    smothed_ctr = (user_likes + alpha * global_ctr) / (user_views + alpha)\n",
    "    return smothed_ctr"
   ]
  },
  {
   "cell_type": "code",
   "execution_count": 155,
   "id": "ffb91ed1-4d37-4fed-9eed-e3028ce8d98c",
   "metadata": {},
   "outputs": [],
   "source": [
    "# посчитаем слгаженный CTR в тесте и контроле\n",
    "global_ctr_test = test.likes.sum()/test.views.sum()\n",
    "global_ctr_control = control.likes.sum()/control.views.sum()\n",
    "\n",
    "test1 = test.copy()\n",
    "test1['smothed_ctr'] = test.apply(lambda x: get_smothed_ctr(x['likes'], x['views'], global_ctr_test, 5), axis=1)\n",
    "\n",
    "control1 = control.copy()\n",
    "control1['smothed_ctr'] = control.apply(lambda x: get_smothed_ctr(x['likes'], x['views'], global_ctr_control, 5), axis=1)"
   ]
  },
  {
   "cell_type": "code",
   "execution_count": 158,
   "id": "2d38a540-fa4b-401c-82d8-2c0b29f88b61",
   "metadata": {},
   "outputs": [
    {
     "data": {
      "text/plain": [
       "<Axes: xlabel='smothed_ctr', ylabel='Count'>"
      ]
     },
     "execution_count": 158,
     "metadata": {},
     "output_type": "execute_result"
    },
    {
     "data": {
      "image/png": "[encoded data removed]",
      "text/plain": [
       "<Figure size 1080x432 with 1 Axes>"
      ]
     },
     "metadata": {},
     "output_type": "display_data"
    }
   ],
   "source": [
    "#распределение сглаженного CTR не сильно изменилось\n",
    "sns.histplot(test1.smothed_ctr)\n",
    "sns.histplot(control1.smothed_ctr)"
   ]
  },
  {
   "cell_type": "code",
   "execution_count": 159,
   "id": "a792ed3c-b305-4831-8449-c41703ef885a",
   "metadata": {},
   "outputs": [
    {
     "data": {
      "text/plain": [
       "Ttest_indResult(statistic=-1.9460491517027683, pvalue=0.05166679015318526)"
      ]
     },
     "execution_count": 159,
     "metadata": {},
     "output_type": "execute_result"
    }
   ],
   "source": [
    "#сравним сглаженные CTR t-тестом\n",
    "stats.ttest_ind(test1.smothed_ctr, control1.smothed_ctr, equal_var=False)"
   ]
  },
  {
   "cell_type": "markdown",
   "id": "16316175-65ce-4e15-b27c-c082caadc425",
   "metadata": {},
   "source": [
    "T-Тест не видит различия, при этом получилось пограничное значение p value"
   ]
  },
  {
   "cell_type": "code",
   "execution_count": 160,
   "id": "d8dffc92-05ad-4988-beac-e68f4cfe0387",
   "metadata": {},
   "outputs": [
    {
     "data": {
      "text/plain": [
       "LeveneResult(statistic=3120.7828985765664, pvalue=0.0)"
      ]
     },
     "execution_count": 160,
     "metadata": {},
     "output_type": "execute_result"
    }
   ],
   "source": [
    "#но условие на гомогенность дисперсийй по прежнему не выполняется\n",
    "stats.levene(test1.smothed_ctr, control1.smothed_ctr, center='median')"
   ]
  },
  {
   "cell_type": "code",
   "execution_count": 161,
   "id": "e0b41d27-f05d-40fb-a594-54b498405374",
   "metadata": {},
   "outputs": [],
   "source": [
    "#сделаем бакетное преобразование и посчитаем в каждом из бакетов CTR\n",
    "q2 = \"\"\"\n",
    "\n",
    "SELECT exp_group, bucket,\n",
    "    sum(likes)/sum(views) as bucket_ctr,\n",
    "    quantileExact(0.9)(ctr) as ctr9\n",
    "FROM (SELECT exp_group, \n",
    "        xxHash64(user_id)%50 as bucket,\n",
    "        user_id,\n",
    "        sum(action = 'like') as likes,\n",
    "        sum(action = 'view') as views,\n",
    "        likes/views as ctr\n",
    "    FROM {db}.feed_actions \n",
    "    WHERE toDate(time) >= toDate('2024-06-28') and toDate(time) <= toDate('2024-07-04') and exp_group in (1,2)\n",
    "    GROUP BY exp_group, bucket, user_id)\n",
    "GROUP BY exp_group, bucket\n",
    "\"\"\"\n",
    "\n",
    "df_bucket = ph.read_clickhouse(q2, connection=connection)"
   ]
  },
  {
   "cell_type": "code",
   "execution_count": 174,
   "id": "47d2d2cf-887d-4def-adc2-5670c7dd4115",
   "metadata": {},
   "outputs": [
    {
     "data": {
      "text/plain": [
       "<Axes: xlabel='bucket_ctr', ylabel='Count'>"
      ]
     },
     "execution_count": 174,
     "metadata": {},
     "output_type": "execute_result"
    },
    {
     "data": {
      "image/png": "[encoded data removed]",
      "text/plain": [
       "<Figure size 1080x432 with 1 Axes>"
      ]
     },
     "metadata": {},
     "output_type": "display_data"
    }
   ],
   "source": [
    "#посмотрим на бакетный CTR, \"на глаз\" кажется что контроле бакетный CTR выше\n",
    "sns.histplot(df_bucket[df_bucket.exp_group == 2].bucket_ctr, color = 'g')\n",
    "sns.histplot(df_bucket[df_bucket.exp_group == 1].bucket_ctr, color = 'r')"
   ]
  },
  {
   "cell_type": "code",
   "execution_count": 166,
   "id": "49bd30f4-6166-4b0a-9726-8f51b3030f11",
   "metadata": {},
   "outputs": [
    {
     "data": {
      "text/plain": [
       "LeveneResult(statistic=19.517795982806632, pvalue=2.5730021424382185e-05)"
      ]
     },
     "execution_count": 166,
     "metadata": {},
     "output_type": "execute_result"
    }
   ],
   "source": [
    "#дисперсии бакетного CTR по прежнему различаются\n",
    "stats.levene(df_bucket[df_bucket.exp_group == 2].bucket_ctr, df_bucket[df_bucket.exp_group == 1].bucket_ctr, center='median')"
   ]
  },
  {
   "cell_type": "code",
   "execution_count": 170,
   "id": "f7ade13c-222a-4a02-bcda-968a59432a71",
   "metadata": {},
   "outputs": [
    {
     "data": {
      "text/plain": [
       "Ttest_indResult(statistic=-5.614819358149381, pvalue=4.592644937473873e-07)"
      ]
     },
     "execution_count": 170,
     "metadata": {},
     "output_type": "execute_result"
    }
   ],
   "source": [
    "#тем не менее t-тест прокрасился\n",
    "stats.ttest_ind(df_bucket[df_bucket.exp_group == 2].bucket_ctr, df_bucket[df_bucket.exp_group == 1].bucket_ctr, equal_var=False)"
   ]
  },
  {
   "cell_type": "code",
   "execution_count": 171,
   "id": "7652c2ff-388a-46f8-ab66-ada72b27c19a",
   "metadata": {},
   "outputs": [
    {
     "data": {
      "text/plain": [
       "MannwhitneyuResult(statistic=503.0, pvalue=2.6576427804010095e-07)"
      ]
     },
     "execution_count": 171,
     "metadata": {},
     "output_type": "execute_result"
    }
   ],
   "source": [
    "# Манн-Уитни также видит различие\n",
    "stats.mannwhitneyu(df_bucket[df_bucket.exp_group == 2].bucket_ctr, df_bucket[df_bucket.exp_group == 1].bucket_ctr, alternative = 'two-sided')"
   ]
  },
  {
   "cell_type": "code",
   "execution_count": 175,
   "id": "7b30ee46-f850-4d06-8b24-b7a6909f128e",
   "metadata": {},
   "outputs": [
    {
     "name": "stdout",
     "output_type": "stream",
     "text": [
      "В 19.8% случаев bucket_ctr в тесте > чем в контроле\n"
     ]
    }
   ],
   "source": [
    "#посмотрим в какую сторону\n",
    "A_gt_B = 0\n",
    "n = 10000\n",
    "for _ in range(n):\n",
    "    A_gt_B+= df_bucket[df_bucket.exp_group == 2].bucket_ctr.sample().values[0] > df_bucket[df_bucket.exp_group == 1].bucket_ctr.sample().values[0]\n",
    "    \n",
    "print('В', f\"{A_gt_B/n:.1%}\", 'случаев bucket_ctr в тесте > чем в контроле')"
   ]
  },
  {
   "cell_type": "markdown",
   "id": "741060e6-4629-4047-8dbd-099333aaa818",
   "metadata": {},
   "source": [
    "Итого:\n",
    "1. t-тест не прокрасился, но условие гомогенности дисперсий не выполнено.\n",
    "2. Пуассоновский бутстреп видит отличие, причем в тестовой группе ухудшился ctr.\n",
    "3. тест Манна-Уитни также прокрасился в отрицательную сторону\n",
    "4. t-тест на сглаженном ctr не прокрасился (пограничное значение p value), при этом требование о гомогенности дисперсий не выполняется.\n",
    "5. t-тест поверх бакетного преобразования видит различия, также условие гомогенности дисперсий не выполнено.\n",
    "6. тест Манна-Уитни поверх бакетного преобразования  прокрасился в отрицательную сторону.\n",
    "\n",
    "T-тесты не стоит применять в данном случае из-за того что дисперсии в группах сильно отличаются.\n",
    "Поэтому стоит доверять непараметрике (бутстрепу и Манн-Уитни), которые показали отрицательный результат.\n",
    "Сложно сказать почему в тестовой группе распределение CTR стало похоже на бимодальное. Возможно новый алгоритм рекомендаций постов на части пользователей показывается себя лучше, а на другой части хуже. Поскольку мы убедились, что система сплитования работает корректно, то это не должно быть связано с характеристиками пользователей. Возможно это связано с какими-то внешними факторами.\n",
    "\n",
    "Резюмируя, я бы не стал выкатывать новый алгоритм рекомендации постов."
   ]
  }
 ],
 "metadata": {
  "kernelspec": {
   "display_name": "Python 3 (ipykernel)",
   "language": "python",
   "name": "python3"
  },
  "language_info": {
   "codemirror_mode": {
    "name": "ipython",
    "version": 3
   },
   "file_extension": ".py",
   "mimetype": "text/x-python",
   "name": "python",
   "nbconvert_exporter": "python",
   "pygments_lexer": "ipython3",
   "version": "3.9.13"
  }
 },
 "nbformat": 4,
 "nbformat_minor": 5
}

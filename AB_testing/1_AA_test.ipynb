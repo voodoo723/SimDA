{
 "cells": [
  {
   "cell_type": "code",
   "execution_count": 55,
   "id": "e52a77aa-cf98-495e-9c38-ce495c69972d",
   "metadata": {},
   "outputs": [],
   "source": [
    "#подключаем библиотеки\n",
    "import pandas as pd\n",
    "import pandahouse as ph\n",
    "import numpy as np\n",
    "from scipy import stats\n",
    "import seaborn as sns\n",
    "%matplotlib inline"
   ]
  },
  {
   "cell_type": "code",
   "execution_count": 56,
   "id": "9d79e160-2f7a-4172-9e5e-f01f77da6a46",
   "metadata": {},
   "outputs": [],
   "source": [
    "#настройки графиков\n",
    "sns.set(\n",
    "    font_scale=2,\n",
    "    style=\"whitegrid\",\n",
    "    rc={'figure.figsize':(15,6)}\n",
    "        )"
   ]
  },
  {
   "cell_type": "code",
   "execution_count": 57,
   "id": "d49ce459-53a8-4733-a419-9d2289dea89d",
   "metadata": {},
   "outputs": [],
   "source": [
    "#подключаемся к кликхаусу\n",
    "connection = {\n",
    "    'host': 'https://clickhouse.lab.karpov.courses',\n",
    "    'password': 'dpo_python_2020',\n",
    "    'user': 'student',\n",
    "    'database': 'simulator_20240720'\n",
    "}\n",
    "\n",
    "q = \"\"\"\n",
    "SELECT user_id, exp_group, countIf(user_id, action = 'like') as likes, countIf(user_id, action = 'view') as views\n",
    "FROM simulator_20240720.feed_actions \n",
    "WHERE toDate(time) >= toDate('2024-06-21') and toDate(time) <= toDate('2024-06-27') and exp_group in (2,3)\n",
    "group by user_id, exp_group\n",
    "\"\"\"\n",
    "\n",
    "# Вытащили пользователей\n",
    "users_df = ph.read_clickhouse(q, connection=connection)"
   ]
  },
  {
   "cell_type": "code",
   "execution_count": 58,
   "id": "fa8e1842-826d-4e24-8c48-96dbddb5661c",
   "metadata": {},
   "outputs": [],
   "source": [
    "#считаем CTR\n",
    "users_df['ctr'] = users_df.likes / users_df.views"
   ]
  },
  {
   "cell_type": "code",
   "execution_count": 59,
   "id": "79e2179a-cf63-44ba-bc7f-997fe30309b4",
   "metadata": {},
   "outputs": [
    {
     "data": {
      "text/html": [
       "<div>\n",
       "<style scoped>\n",
       "    .dataframe tbody tr th:only-of-type {\n",
       "        vertical-align: middle;\n",
       "    }\n",
       "\n",
       "    .dataframe tbody tr th {\n",
       "        vertical-align: top;\n",
       "    }\n",
       "\n",
       "    .dataframe thead th {\n",
       "        text-align: right;\n",
       "    }\n",
       "</style>\n",
       "<table border=\"1\" class=\"dataframe\">\n",
       "  <thead>\n",
       "    <tr style=\"text-align: right;\">\n",
       "      <th></th>\n",
       "      <th>user_id</th>\n",
       "      <th>exp_group</th>\n",
       "      <th>likes</th>\n",
       "      <th>views</th>\n",
       "      <th>ctr</th>\n",
       "    </tr>\n",
       "  </thead>\n",
       "  <tbody>\n",
       "    <tr>\n",
       "      <th>0</th>\n",
       "      <td>115383</td>\n",
       "      <td>3</td>\n",
       "      <td>38</td>\n",
       "      <td>248</td>\n",
       "      <td>0.153226</td>\n",
       "    </tr>\n",
       "    <tr>\n",
       "      <th>1</th>\n",
       "      <td>10326</td>\n",
       "      <td>3</td>\n",
       "      <td>24</td>\n",
       "      <td>132</td>\n",
       "      <td>0.181818</td>\n",
       "    </tr>\n",
       "    <tr>\n",
       "      <th>2</th>\n",
       "      <td>123580</td>\n",
       "      <td>3</td>\n",
       "      <td>25</td>\n",
       "      <td>122</td>\n",
       "      <td>0.204918</td>\n",
       "    </tr>\n",
       "    <tr>\n",
       "      <th>3</th>\n",
       "      <td>131473</td>\n",
       "      <td>2</td>\n",
       "      <td>19</td>\n",
       "      <td>98</td>\n",
       "      <td>0.193878</td>\n",
       "    </tr>\n",
       "    <tr>\n",
       "      <th>4</th>\n",
       "      <td>23985</td>\n",
       "      <td>2</td>\n",
       "      <td>12</td>\n",
       "      <td>44</td>\n",
       "      <td>0.272727</td>\n",
       "    </tr>\n",
       "  </tbody>\n",
       "</table>\n",
       "</div>"
      ],
      "text/plain": [
       "   user_id  exp_group  likes  views       ctr\n",
       "0   115383          3     38    248  0.153226\n",
       "1    10326          3     24    132  0.181818\n",
       "2   123580          3     25    122  0.204918\n",
       "3   131473          2     19     98  0.193878\n",
       "4    23985          2     12     44  0.272727"
      ]
     },
     "execution_count": 59,
     "metadata": {},
     "output_type": "execute_result"
    }
   ],
   "source": [
    "users_df.head()"
   ]
  },
  {
   "cell_type": "code",
   "execution_count": 66,
   "id": "d33acacd-8853-4dd6-ba8f-3ffaa965184b",
   "metadata": {},
   "outputs": [],
   "source": [
    "#10000 раз из каждоуй группы формируем подвыборки по 500 юзеров и прогоняем по ним t-тест\n",
    "\n",
    "steps = 10000\n",
    "sample_size = 500\n",
    "p_values = []\n",
    "threshold = 0\n",
    "\n",
    "for _ in range(steps):\n",
    "    group_2 = users_df[users_df.exp_group == 2].sample(sample_size)\n",
    "    group_3 = users_df[users_df.exp_group == 3].sample(sample_size)\n",
    "    t_result = stats.ttest_ind(group_2.ctr, group_3.ctr, equal_var=False)\n",
    "    p_values.append(t_result[1])\n",
    "    if t_result[1] <= 0.05:\n",
    "        threshold += 1"
   ]
  },
  {
   "cell_type": "code",
   "execution_count": 67,
   "id": "f00b82f9-1249-4b27-8585-4772390b90f5",
   "metadata": {},
   "outputs": [
    {
     "data": {
      "text/plain": [
       "<matplotlib.lines.Line2D at 0x7fc4da26c040>"
      ]
     },
     "execution_count": 67,
     "metadata": {},
     "output_type": "execute_result"
    },
    {
     "data": {
      "image/png": "[encoded data removed]",
      "text/plain": [
       "<Figure size 1080x432 with 1 Axes>"
      ]
     },
     "metadata": {},
     "output_type": "display_data"
    }
   ],
   "source": [
    "#строим гистограмму получученных p values\n",
    "ax = sns.histplot(p_values, bins = 50)\n",
    "ax.axvline(0.05, ls='--', color='red')"
   ]
  },
  {
   "cell_type": "code",
   "execution_count": 68,
   "id": "069469d4-6fda-4cb0-961c-5cc8489190fc",
   "metadata": {},
   "outputs": [
    {
     "name": "stdout",
     "output_type": "stream",
     "text": [
      "Доля p values <= 0.05: 5.0%\n"
     ]
    }
   ],
   "source": [
    "print('Доля p values <= 0.05: ' + f\"{threshold/steps:.1%}\")"
   ]
  },
  {
   "cell_type": "code",
   "execution_count": 71,
   "id": "51d69c6d-2504-44c0-ae09-ec76b6a7c3b3",
   "metadata": {},
   "outputs": [
    {
     "data": {
      "text/plain": [
       "<Axes: xlabel='ctr', ylabel='Count'>"
      ]
     },
     "execution_count": 71,
     "metadata": {},
     "output_type": "execute_result"
    },
    {
     "data": {
      "image/png": "[encoded data removed]",
      "text/plain": [
       "<Figure size 1080x432 with 1 Axes>"
      ]
     },
     "metadata": {},
     "output_type": "display_data"
    }
   ],
   "source": [
    "#посмотрим еще визуально распределение CTR в 2 и 3 группах\n",
    "sns.histplot(data = users_df, x = 'ctr', hue = 'exp_group', palette = ['r', 'b'])"
   ]
  },
  {
   "cell_type": "code",
   "execution_count": 69,
   "id": "39394eb2-8fc6-4b89-90b9-544b24ed49b4",
   "metadata": {},
   "outputs": [
    {
     "data": {
      "text/plain": [
       "Ttest_indResult(statistic=0.6617303509169987, pvalue=0.508153138292614)"
      ]
     },
     "execution_count": 69,
     "metadata": {},
     "output_type": "execute_result"
    }
   ],
   "source": [
    "#и на всякий случай прогоним по исходным группам t-тест\n",
    "stats.ttest_ind(users_df[users_df.exp_group == 2].ctr, users_df[users_df.exp_group == 3].ctr, equal_var=False)"
   ]
  },
  {
   "cell_type": "markdown",
   "id": "dc8e5ed2-0430-433a-af71-1597a6dbcd54",
   "metadata": {},
   "source": [
    "p-value получилось 50%, что не позволяет нам отвергнуть нулевую гипотекзу о равенстве средних CTR\n",
    "\n",
    "Исходя из полученных результатов, а именно:\n",
    "1. Гистотрамму распределений CTR в наших 2х группах. Визуально наши группы \"одинаковы\".\n",
    "2. При прогоне 1000 t-тестов по подвыборкам прокрасились лишь около 5% тестов. При этом если увеличить объемы подвыборок, то доля еще снизится.\n",
    "3. Проведенный t-тест на исходных группах 2 и 3 показал p value на уровне 50%.\n",
    "\n",
    "можно утверждать что наша система сплитования работает корректно."
   ]
  },
  {
   "cell_type": "code",
   "execution_count": null,
   "id": "5b84a197-fe12-47d0-9e0a-c11c38362c4c",
   "metadata": {},
   "outputs": [],
   "source": []
  }
 ],
 "metadata": {
  "kernelspec": {
   "display_name": "Python 3 (ipykernel)",
   "language": "python",
   "name": "python3"
  },
  "language_info": {
   "codemirror_mode": {
    "name": "ipython",
    "version": 3
   },
   "file_extension": ".py",
   "mimetype": "text/x-python",
   "name": "python",
   "nbconvert_exporter": "python",
   "pygments_lexer": "ipython3",
   "version": "3.9.13"
  }
 },
 "nbformat": 4,
 "nbformat_minor": 5
}
